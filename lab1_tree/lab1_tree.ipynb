{
 "cells": [
  {
   "cell_type": "markdown",
   "metadata": {},
   "source": [
    "# Решающее дерево"
   ]
  },
  {
   "cell_type": "markdown",
   "metadata": {},
   "source": [
    "### Примечание\n",
    "### #\n",
    "Данная лабораторная работа не относится напрямую к изучению питона в целом или какого то конкретного модуля. Задача взята из курса по машинному обучению.\n",
    "Здесь я хочу проверить ваши умения разбираться в предлагаемом алгоритме и навыки в реализации этих алгоритмов.\n",
    "Проведем эксперимент и посмотрим на результат. Если будут возникать непреодолимые трудности, то просьба не прибегать к копированию решений из интернета, а обртиться за помощью к коллегам либо преподавателю.\n",
    "### #"
   ]
  },
  {
   "cell_type": "markdown",
   "metadata": {},
   "source": [
    "Отметим, что решающее дерево состоит из вершин, в которых записывает некоторое условие, а в листах дерева - прогноз. Условия во внутренних вершинах выбираются простыми. Наиболее частый вариант - проверка лежит ли значение некоторого признака $x^j$ левее порога $t$:\n",
    "\n",
    "$[x^j \\leq t]$\n",
    "\n",
    "Легко заметить, что такое условие зависит только от одного признака. Прогноз в листе является вещественным числом, если решается задача регрессии. Если же решается задача классификации, то в качестве прогноза выступает или класс или распределение вероятностей классов.\n",
    "\n",
    "Запишем некоторую функцию ошибки следующим образом: есть набор данных $X_m$, есть номер рассматриваемого признака $j$ и есть порог $t$.\n",
    "\n",
    "$L(X_m, j, t) \\rightarrow \\underset{j,t}{min}$\n",
    "\n",
    "Осуществим перебор всех возможных признаков $j$ и порогов $t$ для этих признаков. Каждый раз исходное множество будет разбиваться на два подмножества:\n",
    "\n",
    "$X_l = \\{x \\in X_m | [ x^j \\leq t ] \\}$ и $X_к = \\{x \\in X_m | [ x^j > t ] \\}$\n",
    "\n",
    "Такую процедуру можно продолжить для каждого получившегося множества (рекурсивно вызывать функцию деления для получающихся подмножеств).\n",
    "\n",
    "Необходимо отметить, что если вершина была объявлена листом, необходимо сделать прогноз для этого листа. Для задачи регрессии берется среднее значение по этой выборке,\n",
    "для задачи классификации возвращается тот класс, которые наиболее популярен в выборке. Можно указывать вероятность классов в листе.\n",
    "\n",
    "Для каждого разбиения необходимо расчитывать функцию потерь:\n",
    "\n",
    "$L(X_m, j, t) = \\frac{|X_l|}{|X_m|}H(X_l) + \\frac{|X_r|}{|X_m|}H(X_r)$,\n",
    "\n",
    "где $H(X)=\\sum\\limits_{k=1}^{K} p_k(1 - p_k)$ - критерий информативности Джинни.\n",
    "\n",
    "$p_k$ - доля объектов класса $k$ в выборке X:\n",
    "\n",
    "$p_k=\\frac{1}{|X|}\\sum\\limits_{i \\in X}{[y_i = k]}$\n",
    "\n",
    "В задаче работаем только с числовыми данными и строим дерево классификации.\n",
    "\n",
    "Данные сгенерированы случайным образом."
   ]
  },
  {
   "cell_type": "code",
   "execution_count": 1,
   "metadata": {},
   "outputs": [
    {
     "data": {
      "text/plain": [
       "<matplotlib.collections.PathCollection at 0x2a42e81f220>"
      ]
     },
     "execution_count": 1,
     "metadata": {},
     "output_type": "execute_result"
    },
    {
     "data": {
      "image/png": "[encoded data removed]",
      "text/plain": [
       "<Figure size 432x288 with 1 Axes>"
      ]
     },
     "metadata": {
      "needs_background": "light"
     },
     "output_type": "display_data"
    }
   ],
   "source": [
    "from sklearn.datasets import make_blobs, make_moons\n",
    "import matplotlib.pyplot as plt\n",
    "import numpy as np\n",
    "%matplotlib inline\n",
    "\n",
    "x, y = make_moons(n_samples=100, noise=0.1)\n",
    "plt.scatter(x[:,0], x[:,1], c = y)"
   ]
  },
  {
   "cell_type": "markdown",
   "metadata": {},
   "source": [
    "\n",
    "## Задание\n",
    "\n",
    "Напишите класс дерева, который реализует метод train, которая получает на вход матрицу данных ($x$) и целевые переменные ($y$), на выходе функция возвращает дерево в виде словаря в каждом случае записывается номер признака ($i$), порог разбиения($t$), значение в листовой вершине слева ($y_l$) и значение в листовой вершине справа ($y_r$). Вместо занчения в листовой вершине может содержаться следующий словарь с теми же ключами и так далее.\n",
    "\n",
    "Необходимо учесть:\n",
    "\n",
    "1. Возможность строить дерево строго определенной глубины и возможность указать минимальное количество объектов в узле.\n",
    "2. Пороги разбиения должны лежать строго по середине между ближайшими обектами.\n",
    "3. Разбиений не требуется, если в получившемся множестве находятся объекты одного класса.\n",
    "4. Количество различных классов объектов в целевой переменной может быть больше двух.\n"
   ]
  },
  {
   "cell_type": "code",
   "execution_count": 2,
   "metadata": {},
   "outputs": [],
   "source": [
    "def gini_criterion(ys: np.ndarray) -> float:\n",
    "    classes = np.unique(ys)\n",
    "    gini = 0.\n",
    "    for k in classes:\n",
    "        pk = sum(ys == k) / len(ys)\n",
    "        gini += pk * (1 - pk)    \n",
    "    return gini\n",
    "\n",
    "\n",
    "def gini_loss_fn(X: np.ndarray, y: np.ndarray, j: int, t: float) -> float:\n",
    "    assert X.shape[0] == y.shape[0]\n",
    "    features = X[:, j]\n",
    "    left_ratio = sum(features <= t) / len(y)\n",
    "    right_ratio = sum(features > t) / len(y)\n",
    "    return left_ratio * gini_criterion(y[features <= t]) + right_ratio * gini_criterion(y[features > t])"
   ]
  },
  {
   "cell_type": "code",
   "execution_count": 3,
   "metadata": {},
   "outputs": [],
   "source": [
    "class Tree:\n",
    "    \"\"\" Decision tree classifier \"\"\"\n",
    "    def __init__(self, max_depth: int = 1, min_num_leaf: int = 1) -> None:\n",
    "        self.max_depth = max_depth\n",
    "        self.min_num_leaf = min_num_leaf\n",
    "        self.tree_dict = {}\n",
    "        self._num_leafs = 0\n",
    "        \n",
    "    def _pick_optimal_threshold(\n",
    "        self, \n",
    "        x: np.ndarray, \n",
    "        y: np.ndarray, \n",
    "        j: int, \n",
    "        t: float\n",
    "    ) -> float:\n",
    "        left_objects = x[:, j] <= t\n",
    "        right_objects = x[:, j] > t\n",
    "        \n",
    "        if len(np.unique(y[left_objects])) == 1:\n",
    "            left_class = y[left_objects][0]\n",
    "            max_left_coord = max(x[:, j][y == left_class])\n",
    "            min_right_coord = min(x[:, j][y != left_class])\n",
    "            optimal_t = (max_left_coord + min_right_coord) / 2\n",
    "            return optimal_t\n",
    "        \n",
    "        if len(np.unique(y[right_objects])) == 1:\n",
    "            right_class = y[right_objects][0]\n",
    "            max_left_coord = max(x[:, j][y != right_class])\n",
    "            min_right_coord = min(x[:, j][y == right_class])\n",
    "            optimal_t = (max_left_coord + min_right_coord) / 2\n",
    "            return optimal_t\n",
    "        \n",
    "        return t\n",
    "        \n",
    "    def _make_node(\n",
    "        self, \n",
    "        x: np.ndarray, \n",
    "        y: np.ndarray, \n",
    "        j: int, \n",
    "        t: float, \n",
    "        cur_depth: int\n",
    "    ) -> dict:\n",
    "        leaf_dict = {'j': j, 't': t}\n",
    "        \n",
    "        left_objects = x[:, j] <= t\n",
    "        right_objects = x[:, j] > t\n",
    "        \n",
    "        if len(y[left_objects]) > self.min_num_leaf and len(np.unique(y[left_objects])) > 1:\n",
    "            leaf_dict['left_k'] = self.train(x[left_objects], y[left_objects], cur_depth + 1)\n",
    "        else:\n",
    "            leaf_dict['left_k'] = np.median(y[x[:, j] <= t])\n",
    "        \n",
    "        if len(y[right_objects]) > self.min_num_leaf and len(np.unique(y[right_objects])) > 1:\n",
    "            leaf_dict['right_k'] = self.train(x[right_objects], y[right_objects], cur_depth + 1) \n",
    "        else:\n",
    "            leaf_dict['right_k'] = np.median(y[x[:, j] > t])\n",
    "        \n",
    "        return leaf_dict\n",
    "    \n",
    "    def _make_leaf(\n",
    "        self, \n",
    "        x: np.ndarray,\n",
    "        y: np.ndarray, \n",
    "        j: int, \n",
    "        t:float\n",
    "    ) -> dict:      \n",
    "        return {\n",
    "            'j': j,\n",
    "            't': t,\n",
    "            'left_k': np.median(y[x[:, j] <= t]),\n",
    "            'right_k': np.median(y[x[:, j] > t])\n",
    "        }\n",
    "        \n",
    "    def train(self, x: np.ndarray, y: np.ndarray, cur_depth: int = 1) -> dict:\n",
    "        self._num_leafs += 1\n",
    "        min_gini = np.inf\n",
    "        min_gini_j = 0\n",
    "        min_fini_t = 0\n",
    "        for j in range(x.shape[1]):\n",
    "            min_value = x[:, j].min()\n",
    "            max_value = x[:, j].max()\n",
    "            for t in np.linspace(min_value, max_value):\n",
    "                gini = gini_loss_fn(x, y, j, t)\n",
    "                if gini < min_gini:\n",
    "                    min_gini = gini\n",
    "                    min_gini_j = j\n",
    "                    min_gini_t = t\n",
    "        \n",
    "        optimal_t = self._pick_optimal_threshold(x, y, min_gini_j, min_gini_t)\n",
    "        \n",
    "        if cur_depth < self.max_depth and min_gini > 0.:\n",
    "            leaf_dict = self._make_node(x, y, min_gini_j, optimal_t, cur_depth)\n",
    "        else:\n",
    "            leaf_dict = self._make_leaf(x, y, min_gini_j, optimal_t)\n",
    "        \n",
    "        self.tree_dict = leaf_dict\n",
    "        return leaf_dict\n",
    "    \n",
    "    def predict(self, x: np.ndarray) -> np.ndarray:\n",
    "        y = np.zeros((len(x), ), dtype=np.int64)\n",
    "        for i in range(len(x)):\n",
    "            obj_features = x[i]\n",
    "            k = self.tree_dict\n",
    "            while type(k) is dict:\n",
    "                j = k['j']\n",
    "                t = k['t']\n",
    "                left_k = k['left_k']\n",
    "                right_k = k['right_k']\n",
    "                k = left_k if obj_features[j] <= t else right_k                \n",
    "            y[i] = int(k)\n",
    "        return y"
   ]
  },
  {
   "cell_type": "code",
   "execution_count": 4,
   "metadata": {},
   "outputs": [
    {
     "data": {
      "text/plain": [
       "{'j': 1,\n",
       " 't': 0.125295081154305,\n",
       " 'left_k': {'j': 0,\n",
       "  't': 0.4774740023204146,\n",
       "  'left_k': {'j': 0, 't': -0.4563002130524472, 'left_k': 0.0, 'right_k': 1.0},\n",
       "  'right_k': {'j': 1,\n",
       "   't': 0.050106840920240994,\n",
       "   'left_k': 1.0,\n",
       "   'right_k': 1.0}},\n",
       " 'right_k': {'j': 0,\n",
       "  't': 0.4464737121190223,\n",
       "  'left_k': {'j': 1, 't': 0.38505416679781346, 'left_k': 0.5, 'right_k': 0.0},\n",
       "  'right_k': {'j': 0, 't': 1.518842506866216, 'left_k': 0.0, 'right_k': 1.0}}}"
      ]
     },
     "execution_count": 4,
     "metadata": {},
     "output_type": "execute_result"
    }
   ],
   "source": [
    "tree = Tree(3, 1)\n",
    "tree.train(x, y)"
   ]
  },
  {
   "cell_type": "markdown",
   "metadata": {},
   "source": [
    "Постройте решающее дерево с глубиной 1, 2 и 3.\n",
    "\n",
    "Визуализируйте получившиеся результаты классификатора на плоскости. Для этого воспользуйтесь кодом ниже, чтобы построить поверхность. $t$ - порог разбиения $i$ - номер признака."
   ]
  },
  {
   "cell_type": "code",
   "execution_count": 5,
   "metadata": {},
   "outputs": [
    {
     "data": {
      "text/plain": [
       "<matplotlib.collections.PathCollection at 0x2a42e93e1c0>"
      ]
     },
     "execution_count": 5,
     "metadata": {},
     "output_type": "execute_result"
    },
    {
     "data": {
      "image/png": "[encoded data removed]",
      "text/plain": [
       "<Figure size 432x288 with 1 Axes>"
      ]
     },
     "metadata": {
      "needs_background": "light"
     },
     "output_type": "display_data"
    }
   ],
   "source": [
    "def tree_clf(x):\n",
    "    x = x.T\n",
    "    y_pred = tree.predict(x)\n",
    "    return np.array(y_pred)\n",
    "\n",
    "\n",
    "h = .02\n",
    "x0_min, x0_max = np.min(x[:,0]) - 1, np.max(x[:,0]) + 1\n",
    "x1_min, x1_max = np.min(x[:,1]) - 1, np.max(x[:,1]) + 1\n",
    "xx0, xx1 = np.meshgrid(np.arange(x0_min, x0_max, h),\n",
    "                         np.arange(x1_min, x1_max, h))\n",
    "\n",
    "Z = tree_clf(np.stack((xx0.ravel(),xx1.ravel())))\n",
    "\n",
    "Z = Z.reshape(xx0.shape)\n",
    "cm = plt.cm.RdBu\n",
    "plt.contourf(xx0, xx1, Z, cmap=cm, alpha=.8)\n",
    "plt.scatter(x[:,0], x[:,1], c = y)"
   ]
  },
  {
   "cell_type": "markdown",
   "metadata": {},
   "source": [
    "Тест на blobs"
   ]
  },
  {
   "cell_type": "code",
   "execution_count": 7,
   "metadata": {
    "scrolled": true
   },
   "outputs": [
    {
     "data": {
      "text/plain": [
       "<matplotlib.collections.PathCollection at 0x2a4302cb850>"
      ]
     },
     "execution_count": 7,
     "metadata": {},
     "output_type": "execute_result"
    },
    {
     "data": {
      "image/png": "[encoded data removed]",
      "text/plain": [
       "<Figure size 432x288 with 1 Axes>"
      ]
     },
     "metadata": {
      "needs_background": "light"
     },
     "output_type": "display_data"
    }
   ],
   "source": [
    "x, y = make_blobs(n_samples=100)\n",
    "plt.scatter(x[:,0], x[:,1], c = y)\n",
    "\n",
    "tree = Tree(3, 5)\n",
    "tree.train(x, y)\n",
    "\n",
    "h = .02\n",
    "x0_min, x0_max = np.min(x[:,0]) - 1, np.max(x[:,0]) + 1\n",
    "x1_min, x1_max = np.min(x[:,1]) - 1, np.max(x[:,1]) + 1\n",
    "xx0, xx1 = np.meshgrid(np.arange(x0_min, x0_max, h),\n",
    "                         np.arange(x1_min, x1_max, h))\n",
    "\n",
    "Z = tree_clf(np.stack((xx0.ravel(),xx1.ravel())))\n",
    "\n",
    "Z = Z.reshape(xx0.shape)\n",
    "cm = plt.cm.RdBu\n",
    "plt.contourf(xx0, xx1, Z, cmap=cm, alpha=.8)\n",
    "plt.scatter(x[:,0], x[:,1], c = y)"
   ]
  }
 ],
 "metadata": {
  "kernelspec": {
   "display_name": "Python 3",
   "language": "python",
   "name": "python3"
  },
  "language_info": {
   "codemirror_mode": {
    "name": "ipython",
    "version": 3
   },
   "file_extension": ".py",
   "mimetype": "text/x-python",
   "name": "python",
   "nbconvert_exporter": "python",
   "pygments_lexer": "ipython3",
   "version": "3.8.3"
  }
 },
 "nbformat": 4,
 "nbformat_minor": 4
}
